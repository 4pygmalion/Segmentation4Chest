{
 "cells": [
  {
   "cell_type": "code",
   "execution_count": null,
   "metadata": {},
   "outputs": [],
   "source": [
    "import os\n",
    "import sys\n",
    "import shutil\n",
    "import glob\n",
    "import numpy as np\n",
    "import matplotlib.pyplot as plt\n",
    "from PIL import Image\n",
    "\n",
    "import cv2\n",
    "import Augmentor\n",
    "from sklearn.model_selection import train_test_split\n",
    "MODEL_DIR = os.getcwd()\n",
    "ROOT_DIR = os.path.dirname(MODEL_DIR)\n",
    "DATA_DIR = os.path.join(ROOT_DIR, \"data\")\n",
    "sys.path.append(MODEL_DIR)"
   ]
  },
  {
   "cell_type": "code",
   "execution_count": null,
   "metadata": {},
   "outputs": [],
   "source": [
    "# Initialized data folder\n",
    "TRAIN_DIR = os.path.join(DATA_DIR, \"train\")\n",
    "TEST_DIR = os.path.join(DATA_DIR, \"test\")\n",
    "\n",
    "shutil.rmtree(TRAIN_DIR)\n",
    "shutil.rmtree(TEST_DIR)\n",
    "\n",
    "os.makedirs(TRAIN_DIR, exist_ok=True)\n",
    "os.makedirs(TEST_DIR, exist_ok=True)\n",
    "os.makedirs(os.path.join(TRAIN_DIR, \"img\"), exist_ok=True)\n",
    "os.makedirs(os.path.join(TRAIN_DIR, \"mask\"), exist_ok=True)\n",
    "os.makedirs(os.path.join(TEST_DIR, \"img\"), exist_ok=True)\n",
    "os.makedirs(os.path.join(TEST_DIR, \"mask\"), exist_ok=True)"
   ]
  },
  {
   "cell_type": "code",
   "execution_count": null,
   "metadata": {},
   "outputs": [],
   "source": [
    "# resize\n",
    "MASK_DIR = os.path.join(DATA_DIR, \"JSRT\", \"scr\", \"masks\")\n",
    "MASK_HEART_DIR = os.path.join(MASK_DIR, \"heart\")\n",
    "MASK_HEART_RESIZE_DIR = os.path.join(MASK_HEART_DIR, \"heart_resize\")\n",
    "\n",
    "os.makedirs(MASK_HEART_DIR, exist_ok=True)\n",
    "heart_mask = [os.path.join(MASK_HEART_DIR, gif) for gif in os.listdir(MASK_HEART_DIR)]\n",
    "heart_mask_resize = [path.replace(\"heart\", \"heart_resized\") for path in heart_mask]\n",
    "\n",
    "for src_img_path, dst_img_path in zip(heart_mask, heart_mask_resize):\n",
    "    img = cv2.resize(plt.imread(src_img_path) , dsize=(512, 512), interpolation=cv2.INTER_AREA)\n",
    "    plt.imsave(dst_img_path, img, cmap=\"gray\")"
   ]
  },
  {
   "cell_type": "code",
   "execution_count": null,
   "metadata": {},
   "outputs": [],
   "source": [
    "# collect data\n",
    "NODULE_PNG_DIR = os.path.join(DATA_DIR, \"JSRT\", \"nodules\", \"png\")\n",
    "NON_NODULE_PNG_DIR = os.path.join(DATA_DIR, \"JSRT\", \"non_nodules\", \"png\")\n",
    "nodules_pngs = [os.path.join(NODULE_PNG_DIR, png) for png in os.listdir(NODULE_PNG_DIR)]\n",
    "non_nodules_pngs = [os.path.join(NON_NODULE_PNG_DIR, png) for png in os.listdir(NON_NODULE_PNG_DIR)]\n",
    "entire_img = nodules_pngs + non_nodules_pngs\n",
    "heart_mask_resize\n",
    "\n",
    "\n",
    "samples = [os.path.basename(path).replace(\".gif\", \"\") for path in heart_mask_resize]\n",
    "train_samples, test_samples = train_test_split(samples)\n",
    "\n",
    "for train_sample in train_samples:\n",
    "    for img in entire_img:\n",
    "        if train_sample not in img:\n",
    "            continue\n",
    "\n",
    "        shutil.copy(img, os.path.join(TRAIN_DIR, \"img\", f\"{train_sample}.png\"))\n",
    "    for mask in heart_mask_resize:\n",
    "        if train_sample not in mask:\n",
    "            continue\n",
    "\n",
    "        shutil.copy(mask, os.path.join(TRAIN_DIR, \"mask\", f\"{train_sample}.png\"))"
   ]
  },
  {
   "cell_type": "code",
   "execution_count": null,
   "metadata": {},
   "outputs": [],
   "source": [
    "for test_sample in test_samples:\n",
    "    for img in entire_img:\n",
    "        if test_sample not in img:\n",
    "            continue\n",
    "\n",
    "        shutil.copy(img, os.path.join(TEST_DIR, \"img\", f\"{test_sample}.png\"))\n",
    "    for mask in heart_mask_resize:\n",
    "        if test_sample not in mask:\n",
    "            continue\n",
    "\n",
    "        shutil.copy(mask, os.path.join(TEST_DIR, \"mask\", f\"{test_sample}.png\"))"
   ]
  },
  {
   "cell_type": "code",
   "execution_count": null,
   "metadata": {},
   "outputs": [],
   "source": [
    "# Augmentation\n",
    "\n",
    "# option 1\n",
    "ground_truth_images = glob.glob(os.path.join(TRAIN_DIR, \"img\", \"*\"))\n",
    "segmentation_mask_images = glob.glob(os.path.join(TRAIN_DIR, \"mask\", \"*\"))\n",
    "collated_images_and_masks = list(zip(ground_truth_images, segmentation_mask_images))\n",
    "\n",
    "images = [[np.asarray(Image.open(x)), np.asarray(Image.open(y))] for x, y in collated_images_and_masks]\n",
    "\n",
    "AugmentationPipeline = Augmentor.DataPipeline(images)\n",
    "AugmentationPipeline.random_distortion(probability=1, grid_width=5, grid_height=5, magnitude=8)\n",
    "AugmentationPipeline.gaussian_distortion(probability=1, grid_width=5, grid_height=5, magnitude=8, corner='bell', method='in ')\n",
    "augmented_images = AugmentationPipeline.sample(1000)\n",
    "\n",
    "cnt = 1\n",
    "for img, mask in augmented_images:\n",
    "    imag = Image.fromarray(img)\n",
    "    imag.save(os.path.join(TRAIN_DIR, \"img\", f\"aug_{cnt}.png\"))\n",
    "    mask = Image.fromarray(mask)\n",
    "    mask.save(os.path.join(TRAIN_DIR, \"mask\", f\"aug_{cnt}.png\"))\n",
    "    cnt += 1"
   ]
  },
  {
   "cell_type": "code",
   "execution_count": null,
   "metadata": {},
   "outputs": [],
   "source": [
    "# option 2\n",
    "AugmentationPipeline = Augmentor.DataPipeline(images)\n",
    "AugmentationPipeline.random_distortion(probability=1, grid_width=7, grid_height=7, magnitude=10)\n",
    "AugmentationPipeline.gaussian_distortion(probability=1, grid_width=7, grid_height=7, magnitude=10, corner='bell', method='in ')\n",
    "augmented_images = AugmentationPipeline.sample(500)\n",
    "\n",
    "for img, mask in augmented_images:\n",
    "    imag = Image.fromarray(img)\n",
    "    imag.save(os.path.join(TRAIN_DIR, \"img\", f\"aug_{cnt}.png\"))\n",
    "    mask = Image.fromarray(mask)\n",
    "    mask.save(os.path.join(TRAIN_DIR, \"mask\", f\"aug_{cnt}.png\"))\n",
    "    cnt += 1"
   ]
  }
 ],
 "metadata": {
  "language_info": {
   "name": "python"
  },
  "orig_nbformat": 4
 },
 "nbformat": 4,
 "nbformat_minor": 2
}
