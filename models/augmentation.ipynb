{
 "cells": [
  {
   "cell_type": "code",
   "execution_count": 7,
   "metadata": {},
   "outputs": [],
   "source": [
    "import os\n",
    "import glob\n",
    "import numpy as np\n",
    "from PIL import Image\n",
    "\n",
    "import Augmentor\n",
    "\n",
    "MODELS_DIR = os.getcwd()\n",
    "ROOT_DIR = os.path.dirname(MODELS_DIR)\n",
    "DATA_DIR = os.path.join(ROOT_DIR,\"data\")\n",
    "TRAIN_DIR = os.path.join(DATA_DIR, \"train\")\n",
    "TEST_DIR = os.path.join(DATA_DIR, \"test\")"
   ]
  },
  {
   "cell_type": "code",
   "execution_count": 19,
   "metadata": {},
   "outputs": [
    {
     "ename": "KeyboardInterrupt",
     "evalue": "",
     "output_type": "error",
     "traceback": [
      "\u001b[1;31m---------------------------------------------------------------------------\u001b[0m",
      "\u001b[1;31mKeyboardInterrupt\u001b[0m                         Traceback (most recent call last)",
      "\u001b[1;32mc:\\Users\\PC\\Downloads\\JSRT\\multiple_segmentation\\models\\augmentation2.ipynb 셀 3\u001b[0m in \u001b[0;36m<cell line: 11>\u001b[1;34m()\u001b[0m\n\u001b[0;32m      <a href='vscode-notebook-cell:/c%3A/Users/PC/Downloads/JSRT/multiple_segmentation/models/augmentation2.ipynb#ch0000006?line=8'>9</a>\u001b[0m AugmentationPipeline\u001b[39m.\u001b[39mrandom_distortion(probability\u001b[39m=\u001b[39m\u001b[39m1\u001b[39m, grid_width\u001b[39m=\u001b[39m\u001b[39m5\u001b[39m, grid_height\u001b[39m=\u001b[39m\u001b[39m5\u001b[39m, magnitude\u001b[39m=\u001b[39m\u001b[39m8\u001b[39m)\n\u001b[0;32m     <a href='vscode-notebook-cell:/c%3A/Users/PC/Downloads/JSRT/multiple_segmentation/models/augmentation2.ipynb#ch0000006?line=9'>10</a>\u001b[0m AugmentationPipeline\u001b[39m.\u001b[39mgaussian_distortion(probability\u001b[39m=\u001b[39m\u001b[39m1\u001b[39m, grid_width\u001b[39m=\u001b[39m\u001b[39m5\u001b[39m, grid_height\u001b[39m=\u001b[39m\u001b[39m5\u001b[39m, magnitude\u001b[39m=\u001b[39m\u001b[39m8\u001b[39m, corner\u001b[39m=\u001b[39m\u001b[39m'\u001b[39m\u001b[39mbell\u001b[39m\u001b[39m'\u001b[39m, method\u001b[39m=\u001b[39m\u001b[39m'\u001b[39m\u001b[39min \u001b[39m\u001b[39m'\u001b[39m)\n\u001b[1;32m---> <a href='vscode-notebook-cell:/c%3A/Users/PC/Downloads/JSRT/multiple_segmentation/models/augmentation2.ipynb#ch0000006?line=10'>11</a>\u001b[0m augmented_images \u001b[39m=\u001b[39m AugmentationPipeline\u001b[39m.\u001b[39;49msample(\u001b[39m1000\u001b[39;49m)\n\u001b[0;32m     <a href='vscode-notebook-cell:/c%3A/Users/PC/Downloads/JSRT/multiple_segmentation/models/augmentation2.ipynb#ch0000006?line=12'>13</a>\u001b[0m cnt \u001b[39m=\u001b[39m \u001b[39m1\u001b[39m\n\u001b[0;32m     <a href='vscode-notebook-cell:/c%3A/Users/PC/Downloads/JSRT/multiple_segmentation/models/augmentation2.ipynb#ch0000006?line=13'>14</a>\u001b[0m \u001b[39mfor\u001b[39;00m img, mask \u001b[39min\u001b[39;00m augmented_images:\n",
      "File \u001b[1;32m~\\AppData\\Local\\Packages\\PythonSoftwareFoundation.Python.3.10_qbz5n2kfra8p0\\LocalCache\\local-packages\\Python310\\site-packages\\Augmentor\\Pipeline.py:1918\u001b[0m, in \u001b[0;36mDataPipeline.sample\u001b[1;34m(self, n)\u001b[0m\n\u001b[0;32m   1916\u001b[0m     r \u001b[39m=\u001b[39m \u001b[39mround\u001b[39m(random\u001b[39m.\u001b[39muniform(\u001b[39m0\u001b[39m, \u001b[39m1\u001b[39m), \u001b[39m1\u001b[39m)\n\u001b[0;32m   1917\u001b[0m     \u001b[39mif\u001b[39;00m r \u001b[39m<\u001b[39m\u001b[39m=\u001b[39m operation\u001b[39m.\u001b[39mprobability:\n\u001b[1;32m-> 1918\u001b[0m         images_to_return \u001b[39m=\u001b[39m operation\u001b[39m.\u001b[39;49mperform_operation(images_to_return)\n\u001b[0;32m   1920\u001b[0m images_to_return \u001b[39m=\u001b[39m [np\u001b[39m.\u001b[39masarray(x) \u001b[39mfor\u001b[39;00m x \u001b[39min\u001b[39;00m images_to_return]\n\u001b[0;32m   1922\u001b[0m \u001b[39mif\u001b[39;00m \u001b[39mself\u001b[39m\u001b[39m.\u001b[39mlabels:\n",
      "File \u001b[1;32m~\\AppData\\Local\\Packages\\PythonSoftwareFoundation.Python.3.10_qbz5n2kfra8p0\\LocalCache\\local-packages\\Python310\\site-packages\\Augmentor\\Operations.py:1694\u001b[0m, in \u001b[0;36mGaussianDistortion.perform_operation\u001b[1;34m(self, images)\u001b[0m\n\u001b[0;32m   1691\u001b[0m augmented_images \u001b[39m=\u001b[39m []\n\u001b[0;32m   1693\u001b[0m \u001b[39mfor\u001b[39;00m image \u001b[39min\u001b[39;00m images:\n\u001b[1;32m-> 1694\u001b[0m     augmented_images\u001b[39m.\u001b[39mappend(do(image))\n\u001b[0;32m   1696\u001b[0m \u001b[39mreturn\u001b[39;00m augmented_images\n",
      "File \u001b[1;32m~\\AppData\\Local\\Packages\\PythonSoftwareFoundation.Python.3.10_qbz5n2kfra8p0\\LocalCache\\local-packages\\Python310\\site-packages\\Augmentor\\Operations.py:1659\u001b[0m, in \u001b[0;36mGaussianDistortion.perform_operation.<locals>.do\u001b[1;34m(image)\u001b[0m\n\u001b[0;32m   1656\u001b[0m \u001b[39mfor\u001b[39;00m a, b, c, d \u001b[39min\u001b[39;00m polygon_indices:\n\u001b[0;32m   1657\u001b[0m     x1, y1, x2, y2, x3, y3, x4, y4 \u001b[39m=\u001b[39m polygons[a]\n\u001b[1;32m-> 1659\u001b[0m     sigmax \u001b[39m=\u001b[39m corner(x\u001b[39m=\u001b[39;49mx3\u001b[39m/\u001b[39;49mw, y\u001b[39m=\u001b[39;49my3\u001b[39m/\u001b[39;49mh, corner\u001b[39m=\u001b[39;49m\u001b[39mself\u001b[39;49m\u001b[39m.\u001b[39;49mcorner, method\u001b[39m=\u001b[39;49m\u001b[39mself\u001b[39;49m\u001b[39m.\u001b[39;49mmethod, sdx\u001b[39m=\u001b[39;49m\u001b[39mself\u001b[39;49m\u001b[39m.\u001b[39;49msdx, sdy\u001b[39m=\u001b[39;49m\u001b[39mself\u001b[39;49m\u001b[39m.\u001b[39;49msdy, mex\u001b[39m=\u001b[39;49m\u001b[39mself\u001b[39;49m\u001b[39m.\u001b[39;49mmex, mey\u001b[39m=\u001b[39;49m\u001b[39mself\u001b[39;49m\u001b[39m.\u001b[39;49mmey)\n\u001b[0;32m   1660\u001b[0m     dx \u001b[39m=\u001b[39m np\u001b[39m.\u001b[39mrandom\u001b[39m.\u001b[39mnormal(\u001b[39m0\u001b[39m, sigmax, \u001b[39m1\u001b[39m)[\u001b[39m0\u001b[39m]\n\u001b[0;32m   1661\u001b[0m     dy \u001b[39m=\u001b[39m np\u001b[39m.\u001b[39mrandom\u001b[39m.\u001b[39mnormal(\u001b[39m0\u001b[39m, sigmax, \u001b[39m1\u001b[39m)[\u001b[39m0\u001b[39m]\n",
      "File \u001b[1;32m~\\AppData\\Local\\Packages\\PythonSoftwareFoundation.Python.3.10_qbz5n2kfra8p0\\LocalCache\\local-packages\\Python310\\site-packages\\Augmentor\\Operations.py:1650\u001b[0m, in \u001b[0;36mGaussianDistortion.perform_operation.<locals>.corner\u001b[1;34m(x, y, corner, method, sdx, sdy, mex, mey)\u001b[0m\n\u001b[0;32m   1648\u001b[0m     \u001b[39melse\u001b[39;00m:\n\u001b[0;32m   1649\u001b[0m         const \u001b[39m=\u001b[39m \u001b[39m1\u001b[39m\n\u001b[1;32m-> 1650\u001b[0m res \u001b[39m=\u001b[39m sigmoidf(x\u001b[39m=\u001b[39;49mnew_x, y\u001b[39m=\u001b[39;49mnew_y,sdx\u001b[39m=\u001b[39;49msdx, sdy\u001b[39m=\u001b[39;49msdy, mex\u001b[39m=\u001b[39;49mmex, mey\u001b[39m=\u001b[39;49mmey, const\u001b[39m=\u001b[39;49mconst)\n\u001b[0;32m   1652\u001b[0m \u001b[39mreturn\u001b[39;00m res\n",
      "File \u001b[1;32m~\\AppData\\Local\\Packages\\PythonSoftwareFoundation.Python.3.10_qbz5n2kfra8p0\\LocalCache\\local-packages\\Python310\\site-packages\\Augmentor\\Operations.py:1633\u001b[0m, in \u001b[0;36mGaussianDistortion.perform_operation.<locals>.sigmoidf\u001b[1;34m(x, y, sdx, sdy, mex, mey, const)\u001b[0m\n\u001b[0;32m   1631\u001b[0m Z \u001b[39m=\u001b[39m np\u001b[39m.\u001b[39mvectorize(sigmoid)(X, Y)\n\u001b[0;32m   1632\u001b[0m mino \u001b[39m=\u001b[39m np\u001b[39m.\u001b[39mamin(Z)\n\u001b[1;32m-> 1633\u001b[0m maxo \u001b[39m=\u001b[39m np\u001b[39m.\u001b[39;49mamax(Z)\n\u001b[0;32m   1634\u001b[0m res \u001b[39m=\u001b[39m sigmoid(x, y)\n\u001b[0;32m   1635\u001b[0m res \u001b[39m=\u001b[39m \u001b[39mmax\u001b[39m(((((res \u001b[39m-\u001b[39m mino) \u001b[39m*\u001b[39m (\u001b[39m1\u001b[39m \u001b[39m-\u001b[39m \u001b[39m0\u001b[39m)) \u001b[39m/\u001b[39m (maxo \u001b[39m-\u001b[39m mino)) \u001b[39m+\u001b[39m \u001b[39m0\u001b[39m), \u001b[39m0.01\u001b[39m)\u001b[39m*\u001b[39m\u001b[39mself\u001b[39m\u001b[39m.\u001b[39mmagnitude\n",
      "File \u001b[1;32m<__array_function__ internals>:180\u001b[0m, in \u001b[0;36mamax\u001b[1;34m(*args, **kwargs)\u001b[0m\n",
      "File \u001b[1;32m~\\AppData\\Local\\Packages\\PythonSoftwareFoundation.Python.3.10_qbz5n2kfra8p0\\LocalCache\\local-packages\\Python310\\site-packages\\numpy\\core\\fromnumeric.py:2791\u001b[0m, in \u001b[0;36mamax\u001b[1;34m(a, axis, out, keepdims, initial, where)\u001b[0m\n\u001b[0;32m   2675\u001b[0m \u001b[39m@array_function_dispatch\u001b[39m(_amax_dispatcher)\n\u001b[0;32m   2676\u001b[0m \u001b[39mdef\u001b[39;00m \u001b[39mamax\u001b[39m(a, axis\u001b[39m=\u001b[39m\u001b[39mNone\u001b[39;00m, out\u001b[39m=\u001b[39m\u001b[39mNone\u001b[39;00m, keepdims\u001b[39m=\u001b[39mnp\u001b[39m.\u001b[39m_NoValue, initial\u001b[39m=\u001b[39mnp\u001b[39m.\u001b[39m_NoValue,\n\u001b[0;32m   2677\u001b[0m          where\u001b[39m=\u001b[39mnp\u001b[39m.\u001b[39m_NoValue):\n\u001b[0;32m   2678\u001b[0m     \u001b[39m\"\"\"\u001b[39;00m\n\u001b[0;32m   2679\u001b[0m \u001b[39m    Return the maximum of an array or maximum along an axis.\u001b[39;00m\n\u001b[0;32m   2680\u001b[0m \n\u001b[1;32m   (...)\u001b[0m\n\u001b[0;32m   2789\u001b[0m \u001b[39m    5\u001b[39;00m\n\u001b[0;32m   2790\u001b[0m \u001b[39m    \"\"\"\u001b[39;00m\n\u001b[1;32m-> 2791\u001b[0m     \u001b[39mreturn\u001b[39;00m _wrapreduction(a, np\u001b[39m.\u001b[39;49mmaximum, \u001b[39m'\u001b[39;49m\u001b[39mmax\u001b[39;49m\u001b[39m'\u001b[39;49m, axis, \u001b[39mNone\u001b[39;49;00m, out,\n\u001b[0;32m   2792\u001b[0m                           keepdims\u001b[39m=\u001b[39;49mkeepdims, initial\u001b[39m=\u001b[39;49minitial, where\u001b[39m=\u001b[39;49mwhere)\n",
      "File \u001b[1;32m~\\AppData\\Local\\Packages\\PythonSoftwareFoundation.Python.3.10_qbz5n2kfra8p0\\LocalCache\\local-packages\\Python310\\site-packages\\numpy\\core\\fromnumeric.py:86\u001b[0m, in \u001b[0;36m_wrapreduction\u001b[1;34m(obj, ufunc, method, axis, dtype, out, **kwargs)\u001b[0m\n\u001b[0;32m     83\u001b[0m         \u001b[39melse\u001b[39;00m:\n\u001b[0;32m     84\u001b[0m             \u001b[39mreturn\u001b[39;00m reduction(axis\u001b[39m=\u001b[39maxis, out\u001b[39m=\u001b[39mout, \u001b[39m*\u001b[39m\u001b[39m*\u001b[39mpasskwargs)\n\u001b[1;32m---> 86\u001b[0m \u001b[39mreturn\u001b[39;00m ufunc\u001b[39m.\u001b[39mreduce(obj, axis, dtype, out, \u001b[39m*\u001b[39m\u001b[39m*\u001b[39mpasskwargs)\n",
      "\u001b[1;31mKeyboardInterrupt\u001b[0m: "
     ]
    }
   ],
   "source": [
    "# option 1\n",
    "ground_truth_images = glob.glob(os.path.join(TRAIN_DIR, \"img\", \"*\"))\n",
    "segmentation_mask_images = glob.glob(os.path.join(TRAIN_DIR, \"mask\", \"*\"))\n",
    "collated_images_and_masks = list(zip(ground_truth_images, segmentation_mask_images))\n",
    "\n",
    "images = [[np.asarray(Image.open(x)), np.asarray(Image.open(y))] for x, y in collated_images_and_masks]\n",
    "\n",
    "AugmentationPipeline = Augmentor.DataPipeline(images)\n",
    "AugmentationPipeline.random_distortion(probability=1, grid_width=5, grid_height=5, magnitude=8)\n",
    "AugmentationPipeline.gaussian_distortion(probability=1, grid_width=5, grid_height=5, magnitude=8, corner='bell', method='in ')\n",
    "augmented_images = AugmentationPipeline.sample(1000)\n",
    "\n",
    "cnt = 1\n",
    "for img, mask in augmented_images:\n",
    "    imag = Image.fromarray(img)\n",
    "    imag.save(os.path.join(TRAIN_DIR, \"img\", f\"aug_{cnt}.png\"))\n",
    "    mask = Image.fromarray(mask)\n",
    "    mask.save(os.path.join(TRAIN_DIR, \"mask\", f\"aug_{cnt}.png\"))\n",
    "    cnt += 1"
   ]
  },
  {
   "cell_type": "code",
   "execution_count": 2,
   "metadata": {},
   "outputs": [
    {
     "ename": "ValueError",
     "evalue": "empty range for randrange() (0, 0, 0)",
     "output_type": "error",
     "traceback": [
      "\u001b[1;31m---------------------------------------------------------------------------\u001b[0m",
      "\u001b[1;31mValueError\u001b[0m                                Traceback (most recent call last)",
      "\u001b[1;32mc:\\Users\\PC\\Downloads\\JSRT\\multiple_segmentation\\models\\augmentation2.ipynb 셀 2\u001b[0m in \u001b[0;36m<cell line: 20>\u001b[1;34m()\u001b[0m\n\u001b[0;32m     <a href='vscode-notebook-cell:/c%3A/Users/PC/Downloads/JSRT/multiple_segmentation/models/augmentation2.ipynb#ch0000000?line=17'>18</a>\u001b[0m AugmentationPipeline\u001b[39m.\u001b[39mrandom_distortion(probability\u001b[39m=\u001b[39m\u001b[39m1\u001b[39m, grid_width\u001b[39m=\u001b[39m\u001b[39m5\u001b[39m, grid_height\u001b[39m=\u001b[39m\u001b[39m5\u001b[39m, magnitude\u001b[39m=\u001b[39m\u001b[39m8\u001b[39m)\n\u001b[0;32m     <a href='vscode-notebook-cell:/c%3A/Users/PC/Downloads/JSRT/multiple_segmentation/models/augmentation2.ipynb#ch0000000?line=18'>19</a>\u001b[0m AugmentationPipeline\u001b[39m.\u001b[39mgaussian_distortion(probability\u001b[39m=\u001b[39m\u001b[39m1\u001b[39m, grid_width\u001b[39m=\u001b[39m\u001b[39m5\u001b[39m, grid_height\u001b[39m=\u001b[39m\u001b[39m5\u001b[39m, magnitude\u001b[39m=\u001b[39m\u001b[39m8\u001b[39m, corner\u001b[39m=\u001b[39m\u001b[39m'\u001b[39m\u001b[39mbell\u001b[39m\u001b[39m'\u001b[39m, method\u001b[39m=\u001b[39m\u001b[39m'\u001b[39m\u001b[39min \u001b[39m\u001b[39m'\u001b[39m)\n\u001b[1;32m---> <a href='vscode-notebook-cell:/c%3A/Users/PC/Downloads/JSRT/multiple_segmentation/models/augmentation2.ipynb#ch0000000?line=19'>20</a>\u001b[0m augmented_images \u001b[39m=\u001b[39m AugmentationPipeline\u001b[39m.\u001b[39;49msample(\u001b[39m1000\u001b[39;49m)\n\u001b[0;32m     <a href='vscode-notebook-cell:/c%3A/Users/PC/Downloads/JSRT/multiple_segmentation/models/augmentation2.ipynb#ch0000000?line=21'>22</a>\u001b[0m Count \u001b[39m=\u001b[39m \u001b[39m1\u001b[39m\n\u001b[0;32m     <a href='vscode-notebook-cell:/c%3A/Users/PC/Downloads/JSRT/multiple_segmentation/models/augmentation2.ipynb#ch0000000?line=22'>23</a>\u001b[0m \u001b[39mfor\u001b[39;00m img, mask \u001b[39min\u001b[39;00m augmented_images:\n",
      "File \u001b[1;32m~\\AppData\\Local\\Packages\\PythonSoftwareFoundation.Python.3.10_qbz5n2kfra8p0\\LocalCache\\local-packages\\Python310\\site-packages\\Augmentor\\Pipeline.py:1912\u001b[0m, in \u001b[0;36mDataPipeline.sample\u001b[1;34m(self, n)\u001b[0m\n\u001b[0;32m   1905\u001b[0m y \u001b[39m=\u001b[39m []\n\u001b[0;32m   1907\u001b[0m \u001b[39mfor\u001b[39;00m i \u001b[39min\u001b[39;00m \u001b[39mrange\u001b[39m(\u001b[39m0\u001b[39m, n):\n\u001b[0;32m   1908\u001b[0m \n\u001b[0;32m   1909\u001b[0m     \u001b[39m# We first get a random image(s) and label, because even if\u001b[39;00m\n\u001b[0;32m   1910\u001b[0m     \u001b[39m# the pipeline does nothing (e.g. the probabilities are very low)\u001b[39;00m\n\u001b[0;32m   1911\u001b[0m     \u001b[39m# then we return the images as they are, as the user requested.\u001b[39;00m\n\u001b[1;32m-> 1912\u001b[0m     index \u001b[39m=\u001b[39m random\u001b[39m.\u001b[39;49mrandint(\u001b[39m0\u001b[39;49m, \u001b[39mlen\u001b[39;49m(\u001b[39mself\u001b[39;49m\u001b[39m.\u001b[39;49maugmentor_images) \u001b[39m-\u001b[39;49m \u001b[39m1\u001b[39;49m)\n\u001b[0;32m   1913\u001b[0m     images_to_return \u001b[39m=\u001b[39m [Image\u001b[39m.\u001b[39mfromarray(x) \u001b[39mfor\u001b[39;00m x \u001b[39min\u001b[39;00m \u001b[39mself\u001b[39m\u001b[39m.\u001b[39maugmentor_images[index]]\n\u001b[0;32m   1915\u001b[0m     \u001b[39mfor\u001b[39;00m operation \u001b[39min\u001b[39;00m \u001b[39mself\u001b[39m\u001b[39m.\u001b[39moperations:\n",
      "File \u001b[1;32mC:\\Program Files\\WindowsApps\\PythonSoftwareFoundation.Python.3.10_3.10.1520.0_x64__qbz5n2kfra8p0\\lib\\random.py:370\u001b[0m, in \u001b[0;36mRandom.randint\u001b[1;34m(self, a, b)\u001b[0m\n\u001b[0;32m    366\u001b[0m \u001b[39mdef\u001b[39;00m \u001b[39mrandint\u001b[39m(\u001b[39mself\u001b[39m, a, b):\n\u001b[0;32m    367\u001b[0m     \u001b[39m\"\"\"Return random integer in range [a, b], including both end points.\u001b[39;00m\n\u001b[0;32m    368\u001b[0m \u001b[39m    \"\"\"\u001b[39;00m\n\u001b[1;32m--> 370\u001b[0m     \u001b[39mreturn\u001b[39;00m \u001b[39mself\u001b[39;49m\u001b[39m.\u001b[39;49mrandrange(a, b\u001b[39m+\u001b[39;49m\u001b[39m1\u001b[39;49m)\n",
      "File \u001b[1;32mC:\\Program Files\\WindowsApps\\PythonSoftwareFoundation.Python.3.10_3.10.1520.0_x64__qbz5n2kfra8p0\\lib\\random.py:353\u001b[0m, in \u001b[0;36mRandom.randrange\u001b[1;34m(self, start, stop, step)\u001b[0m\n\u001b[0;32m    351\u001b[0m     \u001b[39mif\u001b[39;00m width \u001b[39m>\u001b[39m \u001b[39m0\u001b[39m:\n\u001b[0;32m    352\u001b[0m         \u001b[39mreturn\u001b[39;00m istart \u001b[39m+\u001b[39m \u001b[39mself\u001b[39m\u001b[39m.\u001b[39m_randbelow(width)\n\u001b[1;32m--> 353\u001b[0m     \u001b[39mraise\u001b[39;00m \u001b[39mValueError\u001b[39;00m(\u001b[39m\"\u001b[39m\u001b[39mempty range for randrange() (\u001b[39m\u001b[39m%d\u001b[39;00m\u001b[39m, \u001b[39m\u001b[39m%d\u001b[39;00m\u001b[39m, \u001b[39m\u001b[39m%d\u001b[39;00m\u001b[39m)\u001b[39m\u001b[39m\"\u001b[39m \u001b[39m%\u001b[39m (istart, istop, width))\n\u001b[0;32m    355\u001b[0m \u001b[39m# Non-unit step argument supplied.\u001b[39;00m\n\u001b[0;32m    356\u001b[0m \u001b[39mif\u001b[39;00m istep \u001b[39m>\u001b[39m \u001b[39m0\u001b[39m:\n",
      "\u001b[1;31mValueError\u001b[0m: empty range for randrange() (0, 0, 0)"
     ]
    }
   ],
   "source": [
    "# option 2\n",
    "AugmentationPipeline = Augmentor.DataPipeline(images)\n",
    "AugmentationPipeline.random_distortion(probability=1, grid_width=7, grid_height=7, magnitude=10)\n",
    "AugmentationPipeline.gaussian_distortion(probability=1, grid_width=7, grid_height=7, magnitude=10, corner='bell', method='in ')\n",
    "augmented_images = AugmentationPipeline.sample(500)\n",
    "\n",
    "for img, mask in augmented_images:\n",
    "    imag = Image.fromarray(img)\n",
    "    imag.save(os.path.join(TRAIN_DIR, \"img\", f\"aug_{cnt}.png\"))\n",
    "    mask = Image.fromarray(mask)\n",
    "    mask.save(os.path.join(TRAIN_DIR, \"mask\", f\"aug_{cnt}.png\"))\n",
    "    cnt += 1"
   ]
  }
 ],
 "metadata": {
  "kernelspec": {
   "display_name": "Python 3.10.5 64-bit (windows store)",
   "language": "python",
   "name": "python3"
  },
  "language_info": {
   "codemirror_mode": {
    "name": "ipython",
    "version": 3
   },
   "file_extension": ".py",
   "mimetype": "text/x-python",
   "name": "python",
   "nbconvert_exporter": "python",
   "pygments_lexer": "ipython3",
   "version": "3.10.5"
  },
  "orig_nbformat": 4,
  "vscode": {
   "interpreter": {
    "hash": "23f823caeccb1684f6bd50492b68bb5eab208de0408f39b2457c6a38c0e8e818"
   }
  }
 },
 "nbformat": 4,
 "nbformat_minor": 2
}
